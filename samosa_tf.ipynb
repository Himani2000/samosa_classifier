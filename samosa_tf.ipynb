{
  "nbformat": 4,
  "nbformat_minor": 0,
  "metadata": {
    "colab": {
      "name": "samosa.ipynb",
      "version": "0.3.2",
      "provenance": [],
      "collapsed_sections": []
    },
    "kernelspec": {
      "name": "python2",
      "display_name": "Python 2"
    }
  },
  "cells": [
    {
      "metadata": {
        "id": "QFaZgys7WhKe",
        "colab_type": "code",
        "colab": {
          "base_uri": "https://localhost:8080/",
          "height": 105
        },
        "outputId": "0582c5c9-8b57-4484-ba4a-3f4947299a3c"
      },
      "cell_type": "code",
      "source": [
        "from scipy.misc import imread\n",
        "from scipy.misc import imresize\n",
        "import os\n",
        "ls=[]\n",
        "folder='wwe'\n",
        "files=os.listdir(folder)\n",
        "files=list(map(lambda x: os.path.join(folder,x),files))\n",
        "a=(len(files))\n",
        "for i in range(a):\n",
        "    im = imread(files[i])\n",
        "    im=imresize(im,[32,32,3])\n",
        "    im=im.flatten()\n",
        "    ls.append(im)\n",
        "\n",
        "  "
      ],
      "execution_count": 88,
      "outputs": [
        {
          "output_type": "stream",
          "text": [
            "/usr/local/lib/python3.6/dist-packages/scipy/misc/pilutil.py:482: FutureWarning: Conversion of the second argument of issubdtype from `int` to `np.signedinteger` is deprecated. In future, it will be treated as `np.int64 == np.dtype(int).type`.\n",
            "  if issubdtype(ts, int):\n",
            "/usr/local/lib/python3.6/dist-packages/scipy/misc/pilutil.py:485: FutureWarning: Conversion of the second argument of issubdtype from `float` to `np.floating` is deprecated. In future, it will be treated as `np.float64 == np.dtype(float).type`.\n",
            "  elif issubdtype(type(size), float):\n"
          ],
          "name": "stderr"
        }
      ]
    },
    {
      "metadata": {
        "id": "4wB50g9hW3e6",
        "colab_type": "code",
        "colab": {
          "base_uri": "https://localhost:8080/",
          "height": 34
        },
        "outputId": "0c449ebf-a102-45c8-9810-653d58ac9a20"
      },
      "cell_type": "code",
      "source": [
        "print(len(ls))"
      ],
      "execution_count": 89,
      "outputs": [
        {
          "output_type": "stream",
          "text": [
            "2370\n"
          ],
          "name": "stdout"
        }
      ]
    },
    {
      "metadata": {
        "id": "xM6QWMCcXGNC",
        "colab_type": "code",
        "colab": {
          "base_uri": "https://localhost:8080/",
          "height": 34
        },
        "outputId": "0395cb27-ad91-47aa-c352-e50f88d4aa80"
      },
      "cell_type": "code",
      "source": [
        ""
      ],
      "execution_count": 84,
      "outputs": [
        {
          "output_type": "stream",
          "text": [
            "90\n"
          ],
          "name": "stdout"
        }
      ]
    },
    {
      "metadata": {
        "id": "xgXBDCMKXOfP",
        "colab_type": "code",
        "colab": {
          "base_uri": "https://localhost:8080/",
          "height": 34
        },
        "outputId": "552110f1-458c-4e56-e997-508d8cea1361"
      },
      "cell_type": "code",
      "source": [
        "import numpy as np\n",
        "\n",
        "raw_data=np.array(ls,dtype=object)\n",
        "print(raw_data.shape)"
      ],
      "execution_count": 92,
      "outputs": [
        {
          "output_type": "stream",
          "text": [
            "(2370, 3072)\n"
          ],
          "name": "stdout"
        }
      ]
    },
    {
      "metadata": {
        "id": "cs2Jd-TKsRyO",
        "colab_type": "code",
        "colab": {
          "base_uri": "https://localhost:8080/",
          "height": 34
        },
        "outputId": "a24d4414-d7ec-4981-90ee-881cd4d2d4e5"
      },
      "cell_type": "code",
      "source": [
        "print(raw_data[200])"
      ],
      "execution_count": 93,
      "outputs": [
        {
          "output_type": "stream",
          "text": [
            "[163 113 18 ... 242 18 0]\n"
          ],
          "name": "stdout"
        }
      ]
    },
    {
      "metadata": {
        "id": "YANSCgV4XP-5",
        "colab_type": "code",
        "colab": {
          "base_uri": "https://localhost:8080/",
          "height": 34
        },
        "outputId": "b1889c6e-830c-47f5-c959-e17a9c00a1ba"
      },
      "cell_type": "code",
      "source": [
        "from sklearn.model_selection import train_test_split\n",
        "train_data,test_data=train_test_split(raw_data,train_size=0.7,test_size=0.3,shuffle=True)\n",
        "print(train_data.shape)"
      ],
      "execution_count": 95,
      "outputs": [
        {
          "output_type": "stream",
          "text": [
            "(1659, 3072)\n"
          ],
          "name": "stdout"
        }
      ]
    },
    {
      "metadata": {
        "id": "379svUN-sxXV",
        "colab_type": "code",
        "colab": {
          "base_uri": "https://localhost:8080/",
          "height": 34
        },
        "outputId": "57a4dbfe-3997-4613-b194-c7f3a2214831"
      },
      "cell_type": "code",
      "source": [
        "print(train_data[200])"
      ],
      "execution_count": 96,
      "outputs": [
        {
          "output_type": "stream",
          "text": [
            "[234 233 249 ... 203 217 243]\n"
          ],
          "name": "stdout"
        }
      ]
    },
    {
      "metadata": {
        "id": "ZROxlXFds3i7",
        "colab_type": "code",
        "colab": {
          "base_uri": "https://localhost:8080/",
          "height": 34
        },
        "outputId": "4dbe5997-62ba-44c1-8395-d4b276c9abc2"
      },
      "cell_type": "code",
      "source": [
        "import pickle\n",
        "\n",
        "with open('data_batch_1', mode='rb') as file:\n",
        "    batch=pickle.load(file,encoding='bytes')\n",
        "    data2=batch[b'data']\n",
        "#num_image=len(features)\n",
        "print((data2.shape))"
      ],
      "execution_count": 97,
      "outputs": [
        {
          "output_type": "stream",
          "text": [
            "(10000, 3072)\n"
          ],
          "name": "stdout"
        }
      ]
    },
    {
      "metadata": {
        "id": "GlhMf8vis8YC",
        "colab_type": "code",
        "colab": {
          "base_uri": "https://localhost:8080/",
          "height": 34
        },
        "outputId": "813da9e5-e4cf-4153-deda-080fb7c543c0"
      },
      "cell_type": "code",
      "source": [
        "beg=10000\n",
        "end=len(data2) + len(train_data)\n",
        "#print(end)\n",
        "images=np.zeros(shape=[end+1,3072])\n",
        "images[0:beg, :]=data2\n",
        "images[beg:end,:]=train_data\n",
        "images[end]=images[11330]\n",
        "print(images.shape)"
      ],
      "execution_count": 98,
      "outputs": [
        {
          "output_type": "stream",
          "text": [
            "(11660, 3072)\n"
          ],
          "name": "stdout"
        }
      ]
    },
    {
      "metadata": {
        "id": "ZUo3c_mRtHGt",
        "colab_type": "code",
        "colab": {}
      },
      "cell_type": "code",
      "source": [
        "images=images.reshape(-1,32,32,3)\n",
        "images=images/255.0\n",
        "#print(images[2])"
      ],
      "execution_count": 0,
      "outputs": []
    },
    {
      "metadata": {
        "id": "YqCmsaK5tQG2",
        "colab_type": "code",
        "colab": {
          "base_uri": "https://localhost:8080/",
          "height": 34
        },
        "outputId": "9c093b37-39d0-4b9e-a2f0-4ad9d2452142"
      },
      "cell_type": "code",
      "source": [
        "print(test_data[201])"
      ],
      "execution_count": 101,
      "outputs": [
        {
          "output_type": "stream",
          "text": [
            "[245 254 253 ... 245 255 249]\n"
          ],
          "name": "stdout"
        }
      ]
    },
    {
      "metadata": {
        "id": "yjfGHqzRtVQf",
        "colab_type": "code",
        "colab": {
          "base_uri": "https://localhost:8080/",
          "height": 68
        },
        "outputId": "2a78973e-308d-46b7-8ee2-e44c52d1241c"
      },
      "cell_type": "code",
      "source": [
        "with open('data_batch_2', mode='rb') as file:\n",
        "    batch=pickle.load(file,encoding='bytes')\n",
        "    tes=batch[b'data']\n",
        "#num_image=len(features)\n",
        "#print((tes.shape))\n",
        "tes=tes[0:5000,:]\n",
        "print(tes.shape)\n",
        "end=len(tes) + len(test_data)\n",
        "test_images=np.zeros(shape=[end,3072])\n",
        "beg=5000\n",
        "test_images[0:beg,:]=tes\n",
        "test_images[beg:end,:]=test_data\n",
        "print(test_images[5201])\n",
        "print(test_images.shape)"
      ],
      "execution_count": 103,
      "outputs": [
        {
          "output_type": "stream",
          "text": [
            "(5000, 3072)\n",
            "[245. 254. 253. ... 245. 255. 249.]\n",
            "(5711, 3072)\n"
          ],
          "name": "stdout"
        }
      ]
    },
    {
      "metadata": {
        "id": "rOO_rox8tWjK",
        "colab_type": "code",
        "colab": {
          "base_uri": "https://localhost:8080/",
          "height": 34
        },
        "outputId": "da87be2f-a2b2-4874-bf34-64e6f54d7704"
      },
      "cell_type": "code",
      "source": [
        "test_images=test_images.reshape(-1,32,32,3)\n",
        "print(test_images.shape)\n",
        "test_images=test_images/255.0"
      ],
      "execution_count": 105,
      "outputs": [
        {
          "output_type": "stream",
          "text": [
            "(5711, 32, 32, 3)\n"
          ],
          "name": "stdout"
        }
      ]
    },
    {
      "metadata": {
        "id": "QuoeSqu9treS",
        "colab_type": "code",
        "colab": {
          "base_uri": "https://localhost:8080/",
          "height": 34
        },
        "outputId": "5082badf-ee6f-4f40-97bd-500be33d9a5d"
      },
      "cell_type": "code",
      "source": [
        "label_train=np.zeros(shape=[11660,1])\n",
        "label_train[10000:11660,:]=1\n",
        "print(label_train.shape)"
      ],
      "execution_count": 106,
      "outputs": [
        {
          "output_type": "stream",
          "text": [
            "(11660, 1)\n"
          ],
          "name": "stdout"
        }
      ]
    },
    {
      "metadata": {
        "id": "UaiMcAqqttxG",
        "colab_type": "code",
        "colab": {
          "base_uri": "https://localhost:8080/",
          "height": 34
        },
        "outputId": "66157c2f-0ee7-423b-f3af-9fad04d8d3bc"
      },
      "cell_type": "code",
      "source": [
        "label_test=np.zeros(shape=[5711,1])\n",
        "label_test[5000:5711,:]=1\n",
        "print(label_test[5001])"
      ],
      "execution_count": 109,
      "outputs": [
        {
          "output_type": "stream",
          "text": [
            "[1.]\n"
          ],
          "name": "stdout"
        }
      ]
    },
    {
      "metadata": {
        "id": "2VXAhwict1W6",
        "colab_type": "code",
        "colab": {
          "base_uri": "https://localhost:8080/",
          "height": 34
        },
        "outputId": "482adf22-92f7-499a-c145-2c0e3000b34d"
      },
      "cell_type": "code",
      "source": [
        "a=(images.shape[0])\n",
        "i=np.random.permutation(a)\n",
        "x_train,y_train=images[i],label_train[i]\n",
        "print(y_train.shape)"
      ],
      "execution_count": 110,
      "outputs": [
        {
          "output_type": "stream",
          "text": [
            "(11660, 1)\n"
          ],
          "name": "stdout"
        }
      ]
    },
    {
      "metadata": {
        "id": "aBkIhdGQt7pg",
        "colab_type": "code",
        "colab": {
          "base_uri": "https://localhost:8080/",
          "height": 34
        },
        "outputId": "097149c4-b300-46e4-dae9-b2575f0b58e8"
      },
      "cell_type": "code",
      "source": [
        "j=np.random.permutation(test_images.shape[0])\n",
        "data_test,label_test=test_images[j],label_test[j]\n",
        "print(data_test.shape)"
      ],
      "execution_count": 165,
      "outputs": [
        {
          "output_type": "stream",
          "text": [
            "(5711, 32, 32, 3)\n"
          ],
          "name": "stdout"
        }
      ]
    },
    {
      "metadata": {
        "id": "kJPThJVA2EwR",
        "colab_type": "code",
        "colab": {}
      },
      "cell_type": "code",
      "source": [
        "def one_hot(raw_labels):\n",
        "    import numpy as np\n",
        "    raw_labels=np.array(raw_labels,np.int32)\n",
        "    n_values = np.max(raw_labels) + 1\n",
        "    onehotDash=np.eye(n_values)[raw_labels]\n",
        "    onehot=np.reshape(onehotDash,(len(raw_labels),2))##we reshape from a 3D matrix as built by default using eye function to a 2D array\n",
        "    print(onehot.shape)\n",
        "    return onehot"
      ],
      "execution_count": 0,
      "outputs": []
    },
    {
      "metadata": {
        "id": "8Rfbnr332KDL",
        "colab_type": "code",
        "colab": {
          "base_uri": "https://localhost:8080/",
          "height": 34
        },
        "outputId": "e92edc14-e55b-4dae-bd82-de80e0e9639f"
      },
      "cell_type": "code",
      "source": [
        "onehot_train=one_hot(y_train)"
      ],
      "execution_count": 136,
      "outputs": [
        {
          "output_type": "stream",
          "text": [
            "(11660, 2)\n"
          ],
          "name": "stdout"
        }
      ]
    },
    {
      "metadata": {
        "id": "9vGBIN_R2TXj",
        "colab_type": "code",
        "colab": {
          "base_uri": "https://localhost:8080/",
          "height": 34
        },
        "outputId": "62ca540d-0427-4275-f395-f28808926317"
      },
      "cell_type": "code",
      "source": [
        "onehot_test=one_hot(label_test)"
      ],
      "execution_count": 164,
      "outputs": [
        {
          "output_type": "stream",
          "text": [
            "(5711, 2)\n"
          ],
          "name": "stdout"
        }
      ]
    },
    {
      "metadata": {
        "id": "PP1UwUsS2MhG",
        "colab_type": "code",
        "colab": {}
      },
      "cell_type": "code",
      "source": [
        ""
      ],
      "execution_count": 0,
      "outputs": []
    },
    {
      "metadata": {
        "id": "eRjD2WML0Bw-",
        "colab_type": "code",
        "colab": {
          "base_uri": "https://localhost:8080/",
          "height": 34
        },
        "outputId": "880cf275-8801-4d17-9ee3-54df0de2da26"
      },
      "cell_type": "code",
      "source": [
        "#val_x,x_test,raw_val_y,raw_y_test=train_test_split(data_test,label_test,train_size=0.6,test_size=0.4,shuffle=True)\n",
        "#print(raw_y_test.shape)"
      ],
      "execution_count": 140,
      "outputs": [
        {
          "output_type": "stream",
          "text": [
            "(2285, 1)\n"
          ],
          "name": "stdout"
        }
      ]
    },
    {
      "metadata": {
        "id": "Z4CGgMQf5c9l",
        "colab_type": "code",
        "colab": {
          "base_uri": "https://localhost:8080/",
          "height": 34
        },
        "outputId": "08d5569b-fed6-470d-e909-7858a9909986"
      },
      "cell_type": "code",
      "source": [
        ""
      ],
      "execution_count": 158,
      "outputs": [
        {
          "output_type": "stream",
          "text": [
            "289\n"
          ],
          "name": "stdout"
        }
      ]
    },
    {
      "metadata": {
        "id": "i7tc30dUuDnl",
        "colab_type": "code",
        "colab": {
          "base_uri": "https://localhost:8080/",
          "height": 68
        },
        "outputId": "6a4c87bd-3142-4a2f-e8d6-f947728ec55d"
      },
      "cell_type": "code",
      "source": [
        ""
      ],
      "execution_count": 144,
      "outputs": [
        {
          "output_type": "stream",
          "text": [
            "(3426, 2)\n",
            "(2285, 2)\n",
            "(2285, 32, 32, 3)\n"
          ],
          "name": "stdout"
        }
      ]
    },
    {
      "metadata": {
        "id": "r674Nv-QuFdT",
        "colab_type": "code",
        "colab": {
          "base_uri": "https://localhost:8080/",
          "height": 34
        },
        "outputId": "c6db1376-f8e3-420f-a8b9-c2ee4c472877"
      },
      "cell_type": "code",
      "source": [
        ""
      ],
      "execution_count": 114,
      "outputs": [
        {
          "output_type": "stream",
          "text": [
            "(11660, 2)\n"
          ],
          "name": "stdout"
        }
      ]
    },
    {
      "metadata": {
        "id": "aO3xfmcRuIm6",
        "colab_type": "code",
        "colab": {}
      },
      "cell_type": "code",
      "source": [
        ""
      ],
      "execution_count": 0,
      "outputs": []
    },
    {
      "metadata": {
        "id": "BaGQMGYDuNth",
        "colab_type": "code",
        "colab": {}
      },
      "cell_type": "code",
      "source": [
        "def weight_init(shape): \n",
        "    weight=tf.truncated_normal(shape,stddev=0.1)\n",
        "    return tf.Variable(weight)"
      ],
      "execution_count": 0,
      "outputs": []
    },
    {
      "metadata": {
        "id": "KlqDppKCuUtt",
        "colab_type": "code",
        "colab": {}
      },
      "cell_type": "code",
      "source": [
        "def bias_init(shape):\n",
        "    bias=tf.constant(0.2,shape=shape)\n",
        "    return tf.Variable(bias)"
      ],
      "execution_count": 0,
      "outputs": []
    },
    {
      "metadata": {
        "id": "BSSWmoHVuXTJ",
        "colab_type": "code",
        "colab": {}
      },
      "cell_type": "code",
      "source": [
        "def conv_d(x,w):\n",
        "    return tf.nn.conv2d(x, w, strides=[1, 1, 1, 1], padding='SAME')"
      ],
      "execution_count": 0,
      "outputs": []
    },
    {
      "metadata": {
        "id": "2CrGeASouZwu",
        "colab_type": "code",
        "colab": {}
      },
      "cell_type": "code",
      "source": [
        "def max_pool(x):\n",
        "      return tf.nn.max_pool(x, ksize=[1, 2, 2, 1],\n",
        "                        strides=[1, 2, 2, 1], padding='SAME')"
      ],
      "execution_count": 0,
      "outputs": []
    },
    {
      "metadata": {
        "id": "UFqsj_15ucyA",
        "colab_type": "code",
        "colab": {}
      },
      "cell_type": "code",
      "source": [
        "import tensorflow as tf\n",
        "x=tf.placeholder(tf.float32,shape=[None,32,32,3])\n",
        "y_=tf.placeholder(tf.float32,shape=[None,2])"
      ],
      "execution_count": 0,
      "outputs": []
    },
    {
      "metadata": {
        "id": "1SmTqrGnuhIx",
        "colab_type": "code",
        "colab": {
          "base_uri": "https://localhost:8080/",
          "height": 306
        },
        "outputId": "1abbcd2e-0340-49fd-f26a-15e5924f7117"
      },
      "cell_type": "code",
      "source": [
        "w_conv1=weight_init([5,5,3,16])\n",
        "b_conv1=bias_init([16])\n",
        "#x_final=convert_images(x)\n",
        "f_conv=tf.nn.relu(conv_d(x,w_conv1) + b_conv1)\n",
        "#batch_mean2, batch_var2 = tf.nn.moments(f_conv,[0])\n",
        "\n",
        "\n",
        "f_pool=max_pool(f_conv)\n",
        "w_conv2=weight_init([5,5,16,32])\n",
        "b_conv2=bias_init([32])\n",
        "s_conv=tf.nn.relu(conv_d(f_pool,w_conv2) + b_conv2)\n",
        "s_pool=max_pool(s_conv)\n",
        "w_conv3=weight_init([5,5,32,64])\n",
        "b_conv3=bias_init([64])\n",
        "t_conv=tf.nn.relu(conv_d(s_pool,w_conv3) + b_conv3)\n",
        "t_pool=max_pool(t_conv)\n",
        "weight_flat=weight_init([4*4*64,10])\n",
        "bias_flat=bias_init([10])\n",
        "t_pool_flat=tf.reshape(t_pool,[-1,4*4*64])\n",
        "\n",
        "keep_prob=tf.placeholder(tf.float32)\n",
        "scale1 = tf.Variable(tf.ones([10]))\n",
        "shift1 = tf.Variable(tf.zeros([10]))\n",
        "\n",
        "f1=(tf.matmul(t_pool_flat,weight_flat)+bias_flat)\n",
        "mean1, var1 = tf.nn.moments(f1, [0])\n",
        "h_fc1_normed = tf.nn.batch_normalization(f1,mean1,var1,shift1,scale1,1e-4)\n",
        "h_fc1=tf.nn.relu(h_fc1_normed)\n",
        "h_fc1_drop=tf.nn.dropout(h_fc1,keep_prob)\n",
        "weight_flat2=weight_init([10,10])\n",
        "bias_flat2=bias_init([10])\n",
        "scale2 = tf.Variable(tf.ones([10]))\n",
        "shift2 = tf.Variable(tf.zeros([10]))\n",
        "\n",
        "f2=(tf.matmul(h_fc1_drop,weight_flat2)+bias_flat2)\n",
        "mean2, var2 = tf.nn.moments(f2, [0])\n",
        "h_fc2_normed = tf.nn.batch_normalization(f2,mean2,var2,shift2,scale2,1e-4)\n",
        "h_fc2=tf.nn.relu(h_fc2_normed)\n",
        "h_fc2_drop=tf.nn.dropout(h_fc2,keep_prob)\n",
        "weight_flat3=weight_init([10,2])\n",
        "bias_flat3=bias_init([2])\n",
        "y_conv=(tf.matmul(h_fc2_drop,weight_flat3)+bias_flat3)\n",
        "\n",
        "cross_entropy = tf.reduce_mean(\n",
        "    tf.nn.softmax_cross_entropy_with_logits(labels=y_, logits=y_conv))\n",
        "train_step = tf.train.AdamOptimizer(0.01).minimize(cross_entropy)\n",
        "\n",
        "\n",
        "correct_prediction = tf.equal(tf.argmax(y_conv,1), tf.argmax(y_,1))\n",
        "accuracy = tf.reduce_mean(tf.cast(correct_prediction, tf.float32))\n",
        "with tf.Session() as sess:\n",
        "    \n",
        "    sess.run(tf.global_variables_initializer())\n",
        "    batch=20\n",
        "    for j in range(8):\n",
        "\n",
        "        for i in range(583):\n",
        "\n",
        "\n",
        "            batch_labels=onehot_train[i*batch:(i+1)*batch,:]\n",
        "\n",
        "            batch_images=x_train[i*batch:(i+1)*batch,:]\n",
        "            train_step.run(feed_dict={x:batch_images , y_:batch_labels , keep_prob: 0.15}) \n",
        "\n",
        "        train_accuracy = accuracy.eval(feed_dict={x:x_train, y_:onehot_train, keep_prob: 1.0})\n",
        "        print(\"epoch %d, training accuracy %g\"%(j, train_accuracy))\n",
        "        print(sess.run(cross_entropy,feed_dict={x:x_train,y_:onehot_train, keep_prob: 1.0}))                                          \n",
        "\n",
        "    print(\"test accuracy %g\"%accuracy.eval(feed_dict={\n",
        "      x:data_test , y_: onehot_test, keep_prob: 1.0})"
      ],
      "execution_count": 210,
      "outputs": [
        {
          "output_type": "stream",
          "text": [
            "epoch 0, training accuracy 0.87753\n",
            "0.16509742\n",
            "epoch 1, training accuracy 0.933448\n",
            "0.13113108\n",
            "epoch 2, training accuracy 0.915437\n",
            "0.14457989\n",
            "epoch 3, training accuracy 0.952916\n",
            "0.10798468\n",
            "epoch 4, training accuracy 0.972642\n",
            "0.094128735\n",
            "epoch 5, training accuracy 0.978816\n",
            "0.083236754\n",
            "epoch 6, training accuracy 0.957633\n",
            "0.100430146\n",
            "epoch 7, training accuracy 0.960978\n",
            "0.10937682\n",
            "test accuracy 0.857468\n"
          ],
          "name": "stdout"
        }
      ]
    }
  ]
}