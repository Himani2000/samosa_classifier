{
  "nbformat": 4,
  "nbformat_minor": 0,
  "metadata": {
    "colab": {
      "name": "samosa2.ipynb",
      "version": "0.3.2",
      "views": {},
      "default_view": {},
      "provenance": [],
      "collapsed_sections": []
    },
    "kernelspec": {
      "name": "python3",
      "display_name": "Python 3"
    },
    "accelerator": "GPU"
  },
  "cells": [
    {
      "metadata": {
        "id": "RdML0HIfm0JT",
        "colab_type": "code",
        "colab": {
          "autoexec": {
            "startup": false,
            "wait_interval": 0
          },
          "resources": {
            "http://localhost:8080/nbextensions/google.colab/files.js": {
              "data": "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",
              "ok": true,
              "headers": [
                [
                  "content-type",
                  "application/javascript"
                ]
              ],
              "status": 200,
              "status_text": ""
            }
          },
          "base_uri": "https://localhost:8080/",
          "height": 91
        },
        "outputId": "b1e3debf-6948-4da1-eab0-dfeea5342cc3",
        "executionInfo": {
          "status": "ok",
          "timestamp": 1532886764544,
          "user_tz": -330,
          "elapsed": 58346,
          "user": {
            "displayName": "Himani Negi",
            "photoUrl": "https://lh3.googleusercontent.com/a/default-user=s128",
            "userId": "114198835767307416956"
          }
        }
      },
      "cell_type": "code",
      "source": [
        "from google.colab import files\n",
        "\n",
        "uploaded=files.upload()\n",
        "for fn in uploaded.keys():\n",
        "    print('user uploaded file \"{name}\" with length {length} bytes'.format(name=fn,length=len(uploaded[fn])))\n",
        "\n"
      ],
      "execution_count": 2,
      "outputs": [
        {
          "output_type": "display_data",
          "data": {
            "text/html": [
              "\n",
              "     <input type=\"file\" id=\"files-a63e386a-e16e-42db-9e9a-315b00e18edc\" name=\"files[]\" multiple disabled />\n",
              "     <output id=\"result-a63e386a-e16e-42db-9e9a-315b00e18edc\">\n",
              "      Upload widget is only available when the cell has been executed in the\n",
              "      current browser session. Please rerun this cell to enable.\n",
              "      </output>\n",
              "      <script src=\"/nbextensions/google.colab/files.js\"></script> "
            ],
            "text/plain": [
              "<IPython.core.display.HTML object>"
            ]
          },
          "metadata": {
            "tags": []
          }
        },
        {
          "output_type": "stream",
          "text": [
            "Saving image.zip to image.zip\n",
            "user uploaded file \"image.zip\" with length 1919308 bytes\n"
          ],
          "name": "stdout"
        }
      ]
    },
    {
      "metadata": {
        "id": "_LvNmugVm5h8",
        "colab_type": "code",
        "colab": {
          "autoexec": {
            "startup": false,
            "wait_interval": 0
          },
          "base_uri": "https://localhost:8080/",
          "height": 35
        },
        "outputId": "71b6ed86-41e2-4ec9-d63b-9d659ea6ba68",
        "executionInfo": {
          "status": "ok",
          "timestamp": 1532886705349,
          "user_tz": -330,
          "elapsed": 9178,
          "user": {
            "displayName": "Himani Negi",
            "photoUrl": "https://lh3.googleusercontent.com/a/default-user=s128",
            "userId": "114198835767307416956"
          }
        }
      },
      "cell_type": "code",
      "source": [
        "import keras\n",
        "from keras.datasets import cifar10\n",
        "from keras.preprocessing.image import ImageDataGenerator\n",
        "from keras.models import Sequential\n",
        "from keras.layers import Dense, Dropout, Activation, Flatten\n",
        "from keras.layers import Conv2D, MaxPooling2D\n",
        "from keras.models import model_from_json"
      ],
      "execution_count": 1,
      "outputs": [
        {
          "output_type": "stream",
          "text": [
            "Using TensorFlow backend.\n"
          ],
          "name": "stderr"
        }
      ]
    },
    {
      "metadata": {
        "id": "MwE9W0DMnUGL",
        "colab_type": "code",
        "colab": {
          "autoexec": {
            "startup": false,
            "wait_interval": 0
          },
          "base_uri": "https://localhost:8080/",
          "height": 35
        },
        "outputId": "9d3b6305-53de-4094-810a-d54a6c3cfbb5",
        "executionInfo": {
          "status": "ok",
          "timestamp": 1532886767427,
          "user_tz": -330,
          "elapsed": 2828,
          "user": {
            "displayName": "Himani Negi",
            "photoUrl": "https://lh3.googleusercontent.com/a/default-user=s128",
            "userId": "114198835767307416956"
          }
        }
      },
      "cell_type": "code",
      "source": [
        "!ls\n"
      ],
      "execution_count": 3,
      "outputs": [
        {
          "output_type": "stream",
          "text": [
            "datalab  image.zip\r\n"
          ],
          "name": "stdout"
        }
      ]
    },
    {
      "metadata": {
        "id": "EGSpcTRRna9u",
        "colab_type": "code",
        "colab": {
          "autoexec": {
            "startup": false,
            "wait_interval": 0
          }
        }
      },
      "cell_type": "code",
      "source": [
        "import zipfile\n",
        "zip_ref = zipfile.ZipFile('image.zip', 'r')\n",
        "zip_ref.extractall()\n",
        "zip_ref.close()\n"
      ],
      "execution_count": 0,
      "outputs": []
    },
    {
      "metadata": {
        "id": "BF3vw678na_j",
        "colab_type": "code",
        "colab": {
          "autoexec": {
            "startup": false,
            "wait_interval": 0
          },
          "base_uri": "https://localhost:8080/",
          "height": 110
        },
        "outputId": "3263714c-94dc-4342-a8a8-9d9e9492efbc",
        "executionInfo": {
          "status": "ok",
          "timestamp": 1532886771273,
          "user_tz": -330,
          "elapsed": 2373,
          "user": {
            "displayName": "Himani Negi",
            "photoUrl": "https://lh3.googleusercontent.com/a/default-user=s128",
            "userId": "114198835767307416956"
          }
        }
      },
      "cell_type": "code",
      "source": [
        "from scipy.misc import imread\n",
        "from scipy.misc import imresize\n",
        "import os\n",
        "ls=[]\n",
        "folder='wwe'\n",
        "files=os.listdir(folder)\n",
        "files=list(map(lambda x: os.path.join(folder,x),files))\n",
        "a=(len(files))\n",
        "for i in range(a):\n",
        "    im = imread(files[i])\n",
        "    im=imresize(im,[32,32,3])\n",
        "    im=im.flatten()\n",
        "    ls.append(im)\n"
      ],
      "execution_count": 5,
      "outputs": [
        {
          "output_type": "stream",
          "text": [
            "/usr/local/lib/python3.6/dist-packages/scipy/misc/pilutil.py:482: FutureWarning: Conversion of the second argument of issubdtype from `int` to `np.signedinteger` is deprecated. In future, it will be treated as `np.int64 == np.dtype(int).type`.\n",
            "  if issubdtype(ts, int):\n",
            "/usr/local/lib/python3.6/dist-packages/scipy/misc/pilutil.py:485: FutureWarning: Conversion of the second argument of issubdtype from `float` to `np.floating` is deprecated. In future, it will be treated as `np.float64 == np.dtype(float).type`.\n",
            "  elif issubdtype(type(size), float):\n"
          ],
          "name": "stderr"
        }
      ]
    },
    {
      "metadata": {
        "id": "wNiVjNBXnbC2",
        "colab_type": "code",
        "colab": {
          "autoexec": {
            "startup": false,
            "wait_interval": 0
          },
          "base_uri": "https://localhost:8080/",
          "height": 35
        },
        "outputId": "4d04cbe0-4c1b-4d3a-cb3a-ac84bdb6c562",
        "executionInfo": {
          "status": "ok",
          "timestamp": 1532886772573,
          "user_tz": -330,
          "elapsed": 1242,
          "user": {
            "displayName": "Himani Negi",
            "photoUrl": "https://lh3.googleusercontent.com/a/default-user=s128",
            "userId": "114198835767307416956"
          }
        }
      },
      "cell_type": "code",
      "source": [
        "import numpy as np\n",
        "\n",
        "raw_data=np.array(ls,dtype=object)\n",
        "print(raw_data.shape)"
      ],
      "execution_count": 6,
      "outputs": [
        {
          "output_type": "stream",
          "text": [
            "(2370, 3072)\n"
          ],
          "name": "stdout"
        }
      ]
    },
    {
      "metadata": {
        "id": "44YGEw5hnjg6",
        "colab_type": "code",
        "colab": {
          "autoexec": {
            "startup": false,
            "wait_interval": 0
          },
          "base_uri": "https://localhost:8080/",
          "height": 35
        },
        "outputId": "d98f6a3a-3757-4ad5-e2e1-9b14724887bf",
        "executionInfo": {
          "status": "ok",
          "timestamp": 1532886774493,
          "user_tz": -330,
          "elapsed": 1851,
          "user": {
            "displayName": "Himani Negi",
            "photoUrl": "https://lh3.googleusercontent.com/a/default-user=s128",
            "userId": "114198835767307416956"
          }
        }
      },
      "cell_type": "code",
      "source": [
        "from sklearn.model_selection import train_test_split\n",
        "train_data,test_data=train_test_split(raw_data,train_size=0.7,test_size=0.3,shuffle=True)\n",
        "print(train_data.shape)"
      ],
      "execution_count": 7,
      "outputs": [
        {
          "output_type": "stream",
          "text": [
            "(1659, 3072)\n"
          ],
          "name": "stdout"
        }
      ]
    },
    {
      "metadata": {
        "id": "EEknKG03nmi6",
        "colab_type": "code",
        "colab": {
          "autoexec": {
            "startup": false,
            "wait_interval": 0
          },
          "base_uri": "https://localhost:8080/",
          "height": 54
        },
        "outputId": "786d4b71-dcfd-4e68-ebb4-93dd2f7420b1",
        "executionInfo": {
          "status": "ok",
          "timestamp": 1532886786305,
          "user_tz": -330,
          "elapsed": 11758,
          "user": {
            "displayName": "Himani Negi",
            "photoUrl": "https://lh3.googleusercontent.com/a/default-user=s128",
            "userId": "114198835767307416956"
          }
        }
      },
      "cell_type": "code",
      "source": [
        "(x_train, y_train), (x_test, y_test)=cifar10.load_data()"
      ],
      "execution_count": 8,
      "outputs": [
        {
          "output_type": "stream",
          "text": [
            "Downloading data from https://www.cs.toronto.edu/~kriz/cifar-10-python.tar.gz\n",
            "170500096/170498071 [==============================] - 7s 0us/step\n"
          ],
          "name": "stdout"
        }
      ]
    },
    {
      "metadata": {
        "id": "Bso8pn3HnrYC",
        "colab_type": "code",
        "colab": {
          "autoexec": {
            "startup": false,
            "wait_interval": 0
          },
          "base_uri": "https://localhost:8080/",
          "height": 35
        },
        "outputId": "ece5f51b-1282-42d4-9db4-d0dead0fc964",
        "executionInfo": {
          "status": "ok",
          "timestamp": 1532886787499,
          "user_tz": -330,
          "elapsed": 1100,
          "user": {
            "displayName": "Himani Negi",
            "photoUrl": "https://lh3.googleusercontent.com/a/default-user=s128",
            "userId": "114198835767307416956"
          }
        }
      },
      "cell_type": "code",
      "source": [
        "x1=x_train[0:10000,:]\n",
        "x2=x_train[10000:20000,:]\n",
        "x1.shape,x2.shape"
      ],
      "execution_count": 9,
      "outputs": [
        {
          "output_type": "execute_result",
          "data": {
            "text/plain": [
              "((10000, 32, 32, 3), (10000, 32, 32, 3))"
            ]
          },
          "metadata": {
            "tags": []
          },
          "execution_count": 9
        }
      ]
    },
    {
      "metadata": {
        "id": "N4x6sVODnxTw",
        "colab_type": "code",
        "colab": {
          "autoexec": {
            "startup": false,
            "wait_interval": 0
          },
          "base_uri": "https://localhost:8080/",
          "height": 35
        },
        "outputId": "c6c0e33b-e3c6-422c-c94c-1a4febd7b7d6",
        "executionInfo": {
          "status": "ok",
          "timestamp": 1532886788907,
          "user_tz": -330,
          "elapsed": 1253,
          "user": {
            "displayName": "Himani Negi",
            "photoUrl": "https://lh3.googleusercontent.com/a/default-user=s128",
            "userId": "114198835767307416956"
          }
        }
      },
      "cell_type": "code",
      "source": [
        "x1=x1.reshape(10000,3072)\n",
        "x2=x2.reshape(10000,3072)\n",
        "x1.shape,x2.shape"
      ],
      "execution_count": 10,
      "outputs": [
        {
          "output_type": "execute_result",
          "data": {
            "text/plain": [
              "((10000, 3072), (10000, 3072))"
            ]
          },
          "metadata": {
            "tags": []
          },
          "execution_count": 10
        }
      ]
    },
    {
      "metadata": {
        "id": "8ggMW6yznxwv",
        "colab_type": "code",
        "colab": {
          "autoexec": {
            "startup": false,
            "wait_interval": 0
          },
          "base_uri": "https://localhost:8080/",
          "height": 35
        },
        "outputId": "f19486a8-9a4b-4fc4-b5a9-46208a1f9306",
        "executionInfo": {
          "status": "ok",
          "timestamp": 1532886790467,
          "user_tz": -330,
          "elapsed": 1457,
          "user": {
            "displayName": "Himani Negi",
            "photoUrl": "https://lh3.googleusercontent.com/a/default-user=s128",
            "userId": "114198835767307416956"
          }
        }
      },
      "cell_type": "code",
      "source": [
        "y1=y_train[0:10000]\n",
        "y2=y_train[10000:20000]\n",
        "y1.shape,y2.shape\n"
      ],
      "execution_count": 11,
      "outputs": [
        {
          "output_type": "execute_result",
          "data": {
            "text/plain": [
              "((10000, 1), (10000, 1))"
            ]
          },
          "metadata": {
            "tags": []
          },
          "execution_count": 11
        }
      ]
    },
    {
      "metadata": {
        "id": "amkjAXoOn17y",
        "colab_type": "code",
        "colab": {
          "autoexec": {
            "startup": false,
            "wait_interval": 0
          },
          "base_uri": "https://localhost:8080/",
          "height": 35
        },
        "outputId": "b5f87e0b-ab1b-4962-abe9-8d8d55798517",
        "executionInfo": {
          "status": "ok",
          "timestamp": 1532886792173,
          "user_tz": -330,
          "elapsed": 1592,
          "user": {
            "displayName": "Himani Negi",
            "photoUrl": "https://lh3.googleusercontent.com/a/default-user=s128",
            "userId": "114198835767307416956"
          }
        }
      },
      "cell_type": "code",
      "source": [
        "beg=10000\n",
        "end=len(x1) + len(train_data)\n",
        "#print(end)\n",
        "images=np.zeros(shape=[end+1,3072])\n",
        "images[0:beg, :]=x1\n",
        "images[beg:end,:]=train_data\n",
        "images[end]=images[11330]\n",
        "print(images.shape)"
      ],
      "execution_count": 12,
      "outputs": [
        {
          "output_type": "stream",
          "text": [
            "(11660, 3072)\n"
          ],
          "name": "stdout"
        }
      ]
    },
    {
      "metadata": {
        "id": "AAKM-TRv2ZZE",
        "colab_type": "code",
        "colab": {
          "autoexec": {
            "startup": false,
            "wait_interval": 0
          }
        }
      },
      "cell_type": "code",
      "source": [
        "images=images.reshape(-1,32,32,3)\n",
        "images=images/255.0\n",
        "#print(images[2])"
      ],
      "execution_count": 0,
      "outputs": []
    },
    {
      "metadata": {
        "id": "mYYnf3WY2kfX",
        "colab_type": "code",
        "colab": {
          "autoexec": {
            "startup": false,
            "wait_interval": 0
          },
          "base_uri": "https://localhost:8080/",
          "height": 35
        },
        "outputId": "b7f9d6bf-1e9e-4219-81c7-765bc993b01d",
        "executionInfo": {
          "status": "ok",
          "timestamp": 1532886794959,
          "user_tz": -330,
          "elapsed": 1390,
          "user": {
            "displayName": "Himani Negi",
            "photoUrl": "https://lh3.googleusercontent.com/a/default-user=s128",
            "userId": "114198835767307416956"
          }
        }
      },
      "cell_type": "code",
      "source": [
        "images.shape"
      ],
      "execution_count": 14,
      "outputs": [
        {
          "output_type": "execute_result",
          "data": {
            "text/plain": [
              "(11660, 32, 32, 3)"
            ]
          },
          "metadata": {
            "tags": []
          },
          "execution_count": 14
        }
      ]
    },
    {
      "metadata": {
        "id": "ZqNXgMdn2l1E",
        "colab_type": "code",
        "colab": {
          "autoexec": {
            "startup": false,
            "wait_interval": 0
          },
          "base_uri": "https://localhost:8080/",
          "height": 72
        },
        "outputId": "0f37383a-6763-4b6b-cd0c-3c7cc3981fe9",
        "executionInfo": {
          "status": "ok",
          "timestamp": 1532886795996,
          "user_tz": -330,
          "elapsed": 962,
          "user": {
            "displayName": "Himani Negi",
            "photoUrl": "https://lh3.googleusercontent.com/a/default-user=s128",
            "userId": "114198835767307416956"
          }
        }
      },
      "cell_type": "code",
      "source": [
        "tes=x2[0:5000,:]\n",
        "print(tes.shape)\n",
        "end=len(tes) + len(test_data)\n",
        "test_images=np.zeros(shape=[end,3072])\n",
        "beg=5000\n",
        "test_images[0:beg,:]=tes\n",
        "test_images[beg:end,:]=test_data\n",
        "print(test_images[5201])\n",
        "print(test_images.shape)"
      ],
      "execution_count": 15,
      "outputs": [
        {
          "output_type": "stream",
          "text": [
            "(5000, 3072)\n",
            "[ 52.  54.  77. ... 240. 238. 213.]\n",
            "(5711, 3072)\n"
          ],
          "name": "stdout"
        }
      ]
    },
    {
      "metadata": {
        "id": "xfW4379g2ubJ",
        "colab_type": "code",
        "colab": {
          "autoexec": {
            "startup": false,
            "wait_interval": 0
          },
          "base_uri": "https://localhost:8080/",
          "height": 35
        },
        "outputId": "f989457c-1633-4254-d2b9-0f0757440f2c",
        "executionInfo": {
          "status": "ok",
          "timestamp": 1532886797521,
          "user_tz": -330,
          "elapsed": 1466,
          "user": {
            "displayName": "Himani Negi",
            "photoUrl": "https://lh3.googleusercontent.com/a/default-user=s128",
            "userId": "114198835767307416956"
          }
        }
      },
      "cell_type": "code",
      "source": [
        "test_images=test_images.reshape(-1,32,32,3)\n",
        "print(test_images.shape)\n",
        "test_images=test_images/255.0"
      ],
      "execution_count": 16,
      "outputs": [
        {
          "output_type": "stream",
          "text": [
            "(5711, 32, 32, 3)\n"
          ],
          "name": "stdout"
        }
      ]
    },
    {
      "metadata": {
        "id": "8nurtLMj2wpE",
        "colab_type": "code",
        "colab": {
          "autoexec": {
            "startup": false,
            "wait_interval": 0
          },
          "base_uri": "https://localhost:8080/",
          "height": 35
        },
        "outputId": "3ea6d1fa-fb90-4e77-d84b-5caadaebd544",
        "executionInfo": {
          "status": "ok",
          "timestamp": 1532886799106,
          "user_tz": -330,
          "elapsed": 1481,
          "user": {
            "displayName": "Himani Negi",
            "photoUrl": "https://lh3.googleusercontent.com/a/default-user=s128",
            "userId": "114198835767307416956"
          }
        }
      },
      "cell_type": "code",
      "source": [
        "test_images.shape"
      ],
      "execution_count": 17,
      "outputs": [
        {
          "output_type": "execute_result",
          "data": {
            "text/plain": [
              "(5711, 32, 32, 3)"
            ]
          },
          "metadata": {
            "tags": []
          },
          "execution_count": 17
        }
      ]
    },
    {
      "metadata": {
        "id": "vUnkLhB624YR",
        "colab_type": "code",
        "colab": {
          "autoexec": {
            "startup": false,
            "wait_interval": 0
          },
          "base_uri": "https://localhost:8080/",
          "height": 35
        },
        "outputId": "99f7295e-299f-4095-c75a-424586f0c6ab",
        "executionInfo": {
          "status": "ok",
          "timestamp": 1532886800485,
          "user_tz": -330,
          "elapsed": 1315,
          "user": {
            "displayName": "Himani Negi",
            "photoUrl": "https://lh3.googleusercontent.com/a/default-user=s128",
            "userId": "114198835767307416956"
          }
        }
      },
      "cell_type": "code",
      "source": [
        "label_train=np.zeros(shape=[11660,1])\n",
        "label_train[10000:11660,:]=1\n",
        "print(label_train.shape)"
      ],
      "execution_count": 18,
      "outputs": [
        {
          "output_type": "stream",
          "text": [
            "(11660, 1)\n"
          ],
          "name": "stdout"
        }
      ]
    },
    {
      "metadata": {
        "id": "a-bMqYCq2-My",
        "colab_type": "code",
        "colab": {
          "autoexec": {
            "startup": false,
            "wait_interval": 0
          },
          "base_uri": "https://localhost:8080/",
          "height": 35
        },
        "outputId": "c3892f6f-6167-4874-d75a-5d1393116ecb",
        "executionInfo": {
          "status": "ok",
          "timestamp": 1532886802311,
          "user_tz": -330,
          "elapsed": 1740,
          "user": {
            "displayName": "Himani Negi",
            "photoUrl": "https://lh3.googleusercontent.com/a/default-user=s128",
            "userId": "114198835767307416956"
          }
        }
      },
      "cell_type": "code",
      "source": [
        "label_test=np.zeros(shape=[5711,1])\n",
        "label_test[5000:5711,:]=1\n",
        "print(label_test[5001])"
      ],
      "execution_count": 19,
      "outputs": [
        {
          "output_type": "stream",
          "text": [
            "[1.]\n"
          ],
          "name": "stdout"
        }
      ]
    },
    {
      "metadata": {
        "id": "ykKP2iAK3Awf",
        "colab_type": "code",
        "colab": {
          "autoexec": {
            "startup": false,
            "wait_interval": 0
          },
          "base_uri": "https://localhost:8080/",
          "height": 35
        },
        "outputId": "9c6b2213-376c-4e71-9efa-8a82a90cb961",
        "executionInfo": {
          "status": "ok",
          "timestamp": 1532886803840,
          "user_tz": -330,
          "elapsed": 1442,
          "user": {
            "displayName": "Himani Negi",
            "photoUrl": "https://lh3.googleusercontent.com/a/default-user=s128",
            "userId": "114198835767307416956"
          }
        }
      },
      "cell_type": "code",
      "source": [
        "a=(images.shape[0])\n",
        "i=np.random.permutation(a)\n",
        "x_train1,y_train1=images[i],label_train[i]\n",
        "print(y_train1.shape,x_train1.shape)"
      ],
      "execution_count": 20,
      "outputs": [
        {
          "output_type": "stream",
          "text": [
            "(11660, 1) (11660, 32, 32, 3)\n"
          ],
          "name": "stdout"
        }
      ]
    },
    {
      "metadata": {
        "id": "8OMFBQ-w3y4f",
        "colab_type": "code",
        "colab": {
          "autoexec": {
            "startup": false,
            "wait_interval": 0
          },
          "base_uri": "https://localhost:8080/",
          "height": 35
        },
        "outputId": "224a8550-0e71-4440-f90b-d9c2570eee2f",
        "executionInfo": {
          "status": "ok",
          "timestamp": 1532886805176,
          "user_tz": -330,
          "elapsed": 1247,
          "user": {
            "displayName": "Himani Negi",
            "photoUrl": "https://lh3.googleusercontent.com/a/default-user=s128",
            "userId": "114198835767307416956"
          }
        }
      },
      "cell_type": "code",
      "source": [
        "j=np.random.permutation(test_images.shape[0])\n",
        "data_test,label_test=test_images[j],label_test[j]\n",
        "print(data_test.shape,label_test.shape)"
      ],
      "execution_count": 21,
      "outputs": [
        {
          "output_type": "stream",
          "text": [
            "(5711, 32, 32, 3) (5711, 1)\n"
          ],
          "name": "stdout"
        }
      ]
    },
    {
      "metadata": {
        "id": "0476tSrE31PC",
        "colab_type": "code",
        "colab": {
          "autoexec": {
            "startup": false,
            "wait_interval": 0
          }
        }
      },
      "cell_type": "code",
      "source": [
        "num_classes=2\n",
        "y_train_main = keras.utils.to_categorical(y_train1, num_classes)\n",
        "y_test_main = keras.utils.to_categorical(label_test, num_classes)\n"
      ],
      "execution_count": 0,
      "outputs": []
    },
    {
      "metadata": {
        "id": "7nXscCTR4Lz2",
        "colab_type": "code",
        "colab": {
          "autoexec": {
            "startup": false,
            "wait_interval": 0
          },
          "base_uri": "https://localhost:8080/",
          "height": 35
        },
        "outputId": "4653d8af-0d43-4bb3-8ade-aa53824f7021",
        "executionInfo": {
          "status": "ok",
          "timestamp": 1532886808473,
          "user_tz": -330,
          "elapsed": 1626,
          "user": {
            "displayName": "Himani Negi",
            "photoUrl": "https://lh3.googleusercontent.com/a/default-user=s128",
            "userId": "114198835767307416956"
          }
        }
      },
      "cell_type": "code",
      "source": [
        "y_train_main.shape,y_test_main.shape"
      ],
      "execution_count": 23,
      "outputs": [
        {
          "output_type": "execute_result",
          "data": {
            "text/plain": [
              "((11660, 2), (5711, 2))"
            ]
          },
          "metadata": {
            "tags": []
          },
          "execution_count": 23
        }
      ]
    },
    {
      "metadata": {
        "id": "Lk7aK9564QNY",
        "colab_type": "code",
        "colab": {
          "autoexec": {
            "startup": false,
            "wait_interval": 0
          }
        }
      },
      "cell_type": "code",
      "source": [
        "model = Sequential()\n",
        "model.add(Conv2D(32, (3, 3), padding='same',\n",
        "                 input_shape=x_train1.shape[1:]))\n",
        "model.add(Activation('relu'))\n",
        "#model.add(MaxPooling2D(pool_size=(2, 2)))\n",
        "model.add(Conv2D(32, (3, 3)))\n",
        "model.add(Activation('relu'))\n",
        "model.add(MaxPooling2D(pool_size=(2, 2)))\n",
        "model.add(Dropout(0.25))\n",
        "\n",
        "model.add(Conv2D(64, (3, 3), padding='same'))\n",
        "model.add(Activation('relu'))\n",
        "model.add(Conv2D(64, (3, 3)))\n",
        "model.add(Activation('relu'))\n",
        "model.add(MaxPooling2D(pool_size=(2, 2)))\n",
        "model.add(Dropout(0.25))\n",
        "\n",
        "model.add(Flatten())\n",
        "model.add(Dense(512))\n",
        "model.add(Activation('relu'))\n",
        "model.add(Dropout(0.5))\n",
        "model.add(Dense(num_classes))\n",
        "model.add(Activation('softmax'))"
      ],
      "execution_count": 0,
      "outputs": []
    },
    {
      "metadata": {
        "id": "_oCksttg4eUG",
        "colab_type": "code",
        "colab": {
          "autoexec": {
            "startup": false,
            "wait_interval": 0
          }
        }
      },
      "cell_type": "code",
      "source": [
        "opt = keras.optimizers.rmsprop(lr=0.0001, decay=1e-6)\n",
        "\n",
        "# Let's train the model using RMSprop\n",
        "model.compile(loss='categorical_crossentropy',\n",
        "              optimizer=opt,\n",
        "              metrics=['accuracy'])"
      ],
      "execution_count": 0,
      "outputs": []
    },
    {
      "metadata": {
        "id": "R5Oiub7D4fE9",
        "colab_type": "code",
        "colab": {
          "autoexec": {
            "startup": false,
            "wait_interval": 0
          },
          "base_uri": "https://localhost:8080/",
          "height": 383
        },
        "outputId": "bfd164fa-0ed0-4829-e327-9074c9a1726f",
        "executionInfo": {
          "status": "ok",
          "timestamp": 1532886871189,
          "user_tz": -330,
          "elapsed": 59799,
          "user": {
            "displayName": "Himani Negi",
            "photoUrl": "https://lh3.googleusercontent.com/a/default-user=s128",
            "userId": "114198835767307416956"
          }
        }
      },
      "cell_type": "code",
      "source": [
        "batch_size=32\n",
        "epochs=8\n",
        "model.fit(x_train1, y_train_main,\n",
        "              batch_size=batch_size,\n",
        "              epochs=epochs,\n",
        "              validation_data=(data_test, y_test_main),\n",
        "              shuffle=True)"
      ],
      "execution_count": 26,
      "outputs": [
        {
          "output_type": "stream",
          "text": [
            "WARNING:tensorflow:Variable *= will be deprecated. Use variable.assign_mul if you want assignment to the variable value or 'x = x * y' if you want a new python Tensor object.\n",
            "Train on 11660 samples, validate on 5711 samples\n",
            "Epoch 1/8\n",
            "11660/11660 [==============================] - 10s 818us/step - loss: 0.1556 - acc: 0.9407 - val_loss: 0.0647 - val_acc: 0.9746\n",
            "Epoch 2/8\n",
            "11660/11660 [==============================] - 7s 600us/step - loss: 0.0737 - acc: 0.9730 - val_loss: 0.0498 - val_acc: 0.9800\n",
            "Epoch 3/8\n",
            " 1184/11660 [==>...........................] - ETA: 5s - loss: 0.0618 - acc: 0.9738"
          ],
          "name": "stdout"
        },
        {
          "output_type": "stream",
          "text": [
            "11660/11660 [==============================] - 7s 594us/step - loss: 0.0609 - acc: 0.9770 - val_loss: 0.1051 - val_acc: 0.9545\n",
            "Epoch 4/8\n",
            "11660/11660 [==============================] - 7s 592us/step - loss: 0.0519 - acc: 0.9804 - val_loss: 0.0343 - val_acc: 0.9872\n",
            "Epoch 5/8\n",
            "11660/11660 [==============================] - 7s 585us/step - loss: 0.0424 - acc: 0.9850 - val_loss: 0.0311 - val_acc: 0.9881\n",
            "Epoch 6/8\n",
            " 7296/11660 [=================>............] - ETA: 2s - loss: 0.0371 - acc: 0.9864"
          ],
          "name": "stdout"
        },
        {
          "output_type": "stream",
          "text": [
            "11660/11660 [==============================] - 7s 584us/step - loss: 0.0386 - acc: 0.9856 - val_loss: 0.0269 - val_acc: 0.9925\n",
            "Epoch 7/8\n",
            "11660/11660 [==============================] - 7s 588us/step - loss: 0.0334 - acc: 0.9866 - val_loss: 0.0287 - val_acc: 0.9904\n",
            "Epoch 8/8\n",
            "11660/11660 [==============================] - 7s 586us/step - loss: 0.0314 - acc: 0.9886 - val_loss: 0.0296 - val_acc: 0.9893\n"
          ],
          "name": "stdout"
        },
        {
          "output_type": "execute_result",
          "data": {
            "text/plain": [
              "<keras.callbacks.History at 0x7fb26f8b3d30>"
            ]
          },
          "metadata": {
            "tags": []
          },
          "execution_count": 26
        }
      ]
    },
    {
      "metadata": {
        "id": "nGm3tVhQ44Sb",
        "colab_type": "code",
        "colab": {
          "autoexec": {
            "startup": false,
            "wait_interval": 0
          },
          "base_uri": "https://localhost:8080/",
          "height": 54
        },
        "outputId": "431c7bc2-ada0-4ebb-c0e4-9455b0a50f44",
        "executionInfo": {
          "status": "ok",
          "timestamp": 1532886873413,
          "user_tz": -330,
          "elapsed": 2146,
          "user": {
            "displayName": "Himani Negi",
            "photoUrl": "https://lh3.googleusercontent.com/a/default-user=s128",
            "userId": "114198835767307416956"
          }
        }
      },
      "cell_type": "code",
      "source": [
        "scores = model.evaluate(data_test, y_test_main, verbose=1)\n",
        "scores\n"
      ],
      "execution_count": 27,
      "outputs": [
        {
          "output_type": "stream",
          "text": [
            "5711/5711 [==============================] - 1s 157us/step\n"
          ],
          "name": "stdout"
        },
        {
          "output_type": "execute_result",
          "data": {
            "text/plain": [
              "[0.029612501269640837, 0.9893188583539844]"
            ]
          },
          "metadata": {
            "tags": []
          },
          "execution_count": 27
        }
      ]
    },
    {
      "metadata": {
        "id": "0UJYXT7a5Hm9",
        "colab_type": "code",
        "colab": {
          "autoexec": {
            "startup": false,
            "wait_interval": 0
          }
        }
      },
      "cell_type": "code",
      "source": [
        "model_json = model.to_json()\n",
        "with open(\"model.json\", \"w\") as json_file:\n",
        "    json_file.write(model_json)"
      ],
      "execution_count": 0,
      "outputs": []
    },
    {
      "metadata": {
        "id": "-CIPkz2NLDSS",
        "colab_type": "code",
        "colab": {
          "autoexec": {
            "startup": false,
            "wait_interval": 0
          },
          "base_uri": "https://localhost:8080/",
          "height": 35
        },
        "outputId": "afc9526a-1b58-4204-83ce-b438810bedfc",
        "executionInfo": {
          "status": "ok",
          "timestamp": 1532886924887,
          "user_tz": -330,
          "elapsed": 1130,
          "user": {
            "displayName": "Himani Negi",
            "photoUrl": "https://lh3.googleusercontent.com/a/default-user=s128",
            "userId": "114198835767307416956"
          }
        }
      },
      "cell_type": "code",
      "source": [
        "model.save_weights(\"model.h5\")\n",
        "print(\"Saved model to disk\")"
      ],
      "execution_count": 29,
      "outputs": [
        {
          "output_type": "stream",
          "text": [
            "Saved model to disk\n"
          ],
          "name": "stdout"
        }
      ]
    },
    {
      "metadata": {
        "id": "-2PHP2zALDVg",
        "colab_type": "code",
        "colab": {
          "autoexec": {
            "startup": false,
            "wait_interval": 0
          }
        }
      },
      "cell_type": "code",
      "source": [
        "json_file = open('model.json', 'r')\n",
        "loaded_model_json = json_file.read()\n",
        "json_file.close()\n",
        "loaded_model = model_from_json(loaded_model_json)"
      ],
      "execution_count": 0,
      "outputs": []
    },
    {
      "metadata": {
        "id": "lpGKeGk8LsJV",
        "colab_type": "code",
        "colab": {
          "autoexec": {
            "startup": false,
            "wait_interval": 0
          },
          "base_uri": "https://localhost:8080/",
          "height": 35
        },
        "outputId": "bc241912-c663-4ec8-8847-3b606276dc8b",
        "executionInfo": {
          "status": "ok",
          "timestamp": 1532886988391,
          "user_tz": -330,
          "elapsed": 1128,
          "user": {
            "displayName": "Himani Negi",
            "photoUrl": "https://lh3.googleusercontent.com/a/default-user=s128",
            "userId": "114198835767307416956"
          }
        }
      },
      "cell_type": "code",
      "source": [
        "loaded_model.load_weights(\"model.h5\")\n",
        "print(\"Loaded model from disk\")"
      ],
      "execution_count": 31,
      "outputs": [
        {
          "output_type": "stream",
          "text": [
            "Loaded model from disk\n"
          ],
          "name": "stdout"
        }
      ]
    },
    {
      "metadata": {
        "id": "SHW8jMDQLzGa",
        "colab_type": "code",
        "colab": {
          "autoexec": {
            "startup": false,
            "wait_interval": 0
          },
          "base_uri": "https://localhost:8080/",
          "height": 35
        },
        "outputId": "d16a7b04-c785-47c2-986f-455ee67d14a7",
        "executionInfo": {
          "status": "ok",
          "timestamp": 1532887286600,
          "user_tz": -330,
          "elapsed": 2001,
          "user": {
            "displayName": "Himani Negi",
            "photoUrl": "https://lh3.googleusercontent.com/a/default-user=s128",
            "userId": "114198835767307416956"
          }
        }
      },
      "cell_type": "code",
      "source": [
        "loaded_model.compile(loss='categorical_crossentropy', optimizer='rmsprop', metrics=['accuracy'])\n",
        "score = loaded_model.evaluate(data_test, y_test_main, verbose=1)"
      ],
      "execution_count": 37,
      "outputs": [
        {
          "output_type": "stream",
          "text": [
            "5711/5711 [==============================] - 1s 183us/step\n"
          ],
          "name": "stdout"
        }
      ]
    },
    {
      "metadata": {
        "id": "UoqPOC_eL-jq",
        "colab_type": "code",
        "colab": {
          "autoexec": {
            "startup": false,
            "wait_interval": 0
          },
          "base_uri": "https://localhost:8080/",
          "height": 35
        },
        "outputId": "a8db1c94-ef35-4698-dd48-96fbe4530c8e",
        "executionInfo": {
          "status": "ok",
          "timestamp": 1532887287687,
          "user_tz": -330,
          "elapsed": 1036,
          "user": {
            "displayName": "Himani Negi",
            "photoUrl": "https://lh3.googleusercontent.com/a/default-user=s128",
            "userId": "114198835767307416956"
          }
        }
      },
      "cell_type": "code",
      "source": [
        "score"
      ],
      "execution_count": 38,
      "outputs": [
        {
          "output_type": "execute_result",
          "data": {
            "text/plain": [
              "[0.029612501269640837, 0.9893188583539844]"
            ]
          },
          "metadata": {
            "tags": []
          },
          "execution_count": 38
        }
      ]
    },
    {
      "metadata": {
        "id": "YWMi3_-pL_q2",
        "colab_type": "code",
        "colab": {
          "autoexec": {
            "startup": false,
            "wait_interval": 0
          }
        }
      },
      "cell_type": "code",
      "source": [
        "from google.colab import files"
      ],
      "execution_count": 0,
      "outputs": []
    },
    {
      "metadata": {
        "id": "52gAMAjqMbXj",
        "colab_type": "code",
        "colab": {
          "autoexec": {
            "startup": false,
            "wait_interval": 0
          }
        }
      },
      "cell_type": "code",
      "source": [
        "files.download(\"model.h5\")"
      ],
      "execution_count": 0,
      "outputs": []
    },
    {
      "metadata": {
        "id": "UTpQ_ZCbMg53",
        "colab_type": "code",
        "colab": {
          "autoexec": {
            "startup": false,
            "wait_interval": 0
          }
        }
      },
      "cell_type": "code",
      "source": [
        "files.download(\"model.json\")"
      ],
      "execution_count": 0,
      "outputs": []
    },
    {
      "metadata": {
        "id": "VvIl6ZL6Mppm",
        "colab_type": "code",
        "colab": {
          "autoexec": {
            "startup": false,
            "wait_interval": 0
          }
        }
      },
      "cell_type": "code",
      "source": [
        ""
      ],
      "execution_count": 0,
      "outputs": []
    }
  ]
}